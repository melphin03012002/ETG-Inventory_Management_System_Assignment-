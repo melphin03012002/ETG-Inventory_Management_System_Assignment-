{
  "nbformat": 4,
  "nbformat_minor": 0,
  "metadata": {
    "colab": {
      "name": "Purchasing_prdt.ipynb",
      "provenance": [],
      "collapsed_sections": [],
      "authorship_tag": "ABX9TyPx4LwiaKkd8jlubpch/tVE",
      "include_colab_link": true
    },
    "kernelspec": {
      "name": "python3",
      "display_name": "Python 3"
    },
    "language_info": {
      "name": "python"
    }
  },
  "cells": [
    {
      "cell_type": "markdown",
      "metadata": {
        "id": "view-in-github",
        "colab_type": "text"
      },
      "source": [
        "<a href=\"https://colab.research.google.com/github/melphin03012002/ETG-Inventory_Management_System_Assignment-/blob/main/Purchasing_prdt.ipynb\" target=\"_parent\"><img src=\"https://colab.research.google.com/assets/colab-badge.svg\" alt=\"Open In Colab\"/></a>"
      ]
    },
    {
      "cell_type": "code",
      "metadata": {
        "colab": {
          "base_uri": "https://localhost:8080/",
          "height": 229
        },
        "id": "zdn_prTDQoNi",
        "outputId": "e0615d06-c177-49a6-a068-ed9d0eab7c10"
      },
      "source": [
        "import json\n",
        "\n",
        "fd = open(\"record.json\",'r')\n",
        "r = fd.read()\n",
        "fd.close()\n",
        "\n",
        "records = json.loads(r)"
      ],
      "execution_count": 1,
      "outputs": [
        {
          "output_type": "error",
          "ename": "FileNotFoundError",
          "evalue": "ignored",
          "traceback": [
            "\u001b[0;31m---------------------------------------------------------------------------\u001b[0m",
            "\u001b[0;31mFileNotFoundError\u001b[0m                         Traceback (most recent call last)",
            "\u001b[0;32m<ipython-input-1-de305cb84616>\u001b[0m in \u001b[0;36m<module>\u001b[0;34m()\u001b[0m\n\u001b[1;32m      1\u001b[0m \u001b[0;32mimport\u001b[0m \u001b[0mjson\u001b[0m\u001b[0;34m\u001b[0m\u001b[0;34m\u001b[0m\u001b[0m\n\u001b[1;32m      2\u001b[0m \u001b[0;34m\u001b[0m\u001b[0m\n\u001b[0;32m----> 3\u001b[0;31m \u001b[0mfd\u001b[0m \u001b[0;34m=\u001b[0m \u001b[0mopen\u001b[0m\u001b[0;34m(\u001b[0m\u001b[0;34m\"record.json\"\u001b[0m\u001b[0;34m,\u001b[0m\u001b[0;34m'r'\u001b[0m\u001b[0;34m)\u001b[0m\u001b[0;34m\u001b[0m\u001b[0;34m\u001b[0m\u001b[0m\n\u001b[0m\u001b[1;32m      4\u001b[0m \u001b[0mr\u001b[0m \u001b[0;34m=\u001b[0m \u001b[0mfd\u001b[0m\u001b[0;34m.\u001b[0m\u001b[0mread\u001b[0m\u001b[0;34m(\u001b[0m\u001b[0;34m)\u001b[0m\u001b[0;34m\u001b[0m\u001b[0;34m\u001b[0m\u001b[0m\n\u001b[1;32m      5\u001b[0m \u001b[0mfd\u001b[0m\u001b[0;34m.\u001b[0m\u001b[0mclose\u001b[0m\u001b[0;34m(\u001b[0m\u001b[0;34m)\u001b[0m\u001b[0;34m\u001b[0m\u001b[0;34m\u001b[0m\u001b[0m\n",
            "\u001b[0;31mFileNotFoundError\u001b[0m: [Errno 2] No such file or directory: 'record.json'"
          ]
        }
      ]
    },
    {
      "cell_type": "code",
      "metadata": {
        "id": "quO06UQNRTKc"
      },
      "source": [
        "import json\n",
        "\n",
        "fd = open(\"record.json\",'r')\n",
        "r = fd.read()\n",
        "fd.close()\n",
        "\n",
        "records = json.loads(r)"
      ],
      "execution_count": 2,
      "outputs": []
    },
    {
      "cell_type": "code",
      "metadata": {
        "colab": {
          "base_uri": "https://localhost:8080/"
        },
        "id": "xp1MNhUZRlfm",
        "outputId": "b8a3f99b-7757-40cc-f821-a3d15c30a64a"
      },
      "source": [
        "records"
      ],
      "execution_count": 3,
      "outputs": [
        {
          "output_type": "execute_result",
          "data": {
            "text/plain": [
              "{'101': {'date': '5/21',\n",
              "  'p_exp': '6/21',\n",
              "  'p_name': 'Apple',\n",
              "  'p_quan': 30,\n",
              "  'price': 5},\n",
              " '102': {'date': '6/21',\n",
              "  'p_exp': '6/21',\n",
              "  'p_name': 'Banana',\n",
              "  'p_quan': 20,\n",
              "  'price': 4},\n",
              " '103': {'date': '6/21',\n",
              "  'p_exp': '7/21',\n",
              "  'p_name': 'Chips',\n",
              "  'p_quan': 25,\n",
              "  'price': 10},\n",
              " '104': {'date': '4/9',\n",
              "  'p_exp': '6/9',\n",
              "  'p_name': 'milk',\n",
              "  'p_quan': 2,\n",
              "  'price': 25},\n",
              " '105': {'date': '4/9',\n",
              "  'p_exp': '8/9',\n",
              "  'p_name': 'paneer',\n",
              "  'p_quan': 3,\n",
              "  'price': 50},\n",
              " '106': {'date': '5/9',\n",
              "  'p_exp': '21/9',\n",
              "  'p_name': 'ghee',\n",
              "  'p_quan': 2,\n",
              "  'price': 100},\n",
              " '107': {'date': '2/8',\n",
              "  'p_exp': '9/9',\n",
              "  'p_name': 'cheese',\n",
              "  'p_quan': 4,\n",
              "  'price': 120},\n",
              " '108': {'date': '12/6',\n",
              "  'p_exp': '10/11',\n",
              "  'p_name': 'ketchup',\n",
              "  'p_quan': 4,\n",
              "  'price': 75},\n",
              " '109': {'date': '12/7',\n",
              "  'p_exp': '8/9',\n",
              "  'p_name': 'butter',\n",
              "  'p_quan': 5,\n",
              "  'price': 80},\n",
              " '110': {'date': '1/9',\n",
              "  'p_exp': '9/9',\n",
              "  'p_name': 'meat',\n",
              "  'p_quan': 2,\n",
              "  'price': 220},\n",
              " '111': {'date': '5/9',\n",
              "  'p_exp': '11/9',\n",
              "  'p_name': 'chicken',\n",
              "  'p_quan': 3,\n",
              "  'price': 240},\n",
              " '112': {'date': '6/9',\n",
              "  'p_exp': '13/9',\n",
              "  'p_name': 'fish',\n",
              "  'p_quan': 4,\n",
              "  'price': 400},\n",
              " '113': {'date': '2/8',\n",
              "  'p_exp': '9/8',\n",
              "  'p_name': 'prawn',\n",
              "  'p_quan': 2,\n",
              "  'price': 300},\n",
              " '114': {'date': '5/9',\n",
              "  'p_exp': '7/9',\n",
              "  'p_name': 'greens',\n",
              "  'p_quan': 5,\n",
              "  'price': 12},\n",
              " '115': {'date': '3/9',\n",
              "  'p_exp': '14/9',\n",
              "  'p_name': 'bread',\n",
              "  'p_quan': 4,\n",
              "  'price': 24},\n",
              " '116': {'date': '6/9',\n",
              "  'p_exp': '18/9',\n",
              "  'p_name': 'bun',\n",
              "  'p_quan': 6,\n",
              "  'price': 25},\n",
              " '117': {'date': '9/8',\n",
              "  'p_exp': '10/10',\n",
              "  'p_name': 'jam',\n",
              "  'p_quan': 2,\n",
              "  'price': 75},\n",
              " '118': {'date': '23/8',\n",
              "  'p_exp': '9/9',\n",
              "  'p_name': 'dates',\n",
              "  'p_quan': 4,\n",
              "  'price': 220},\n",
              " '119': {'date': '24/8',\n",
              "  'p_exp': '10/10',\n",
              "  'p_name': 'jelly',\n",
              "  'p_quan': 5,\n",
              "  'price': 5},\n",
              " '120': {'date': '18/7',\n",
              "  'p_exp': '20/9',\n",
              "  'p_name': 'oats',\n",
              "  'p_quan': 7,\n",
              "  'price': 45},\n",
              " '121': {'date': '6/9',\n",
              "  'p_exp': '10/9',\n",
              "  'p_name': 'waffles',\n",
              "  'p_quan': 3,\n",
              "  'price': 120},\n",
              " '122': {'date': '13/7',\n",
              "  'p_exp': '9/10',\n",
              "  'p_name': 'wafer',\n",
              "  'p_quan': 6,\n",
              "  'price': 20},\n",
              " '123': {'date': '4/8',\n",
              "  'p_exp': '4/11',\n",
              "  'p_name': 'wheat flour',\n",
              "  'p_quan': 3,\n",
              "  'price': 30},\n",
              " '124': {'date': '9/6',\n",
              "  'p_exp': '2/10',\n",
              "  'p_name': 'corn flour',\n",
              "  'p_quan': 5,\n",
              "  'price': 35},\n",
              " '125': {'date': '5/8',\n",
              "  'p_exp': '10/9',\n",
              "  'p_name': 'dairy milk',\n",
              "  'p_quan': 7,\n",
              "  'price': 50},\n",
              " '126': {'date': '3/9',\n",
              "  'p_exp': '15/10',\n",
              "  'p_name': 'milkmaid',\n",
              "  'p_quan': 8,\n",
              "  'price': 75},\n",
              " '127': {'date': '8/7',\n",
              "  'p_exp': '10/11',\n",
              "  'p_name': 'choco powder',\n",
              "  'p_quan': 10,\n",
              "  'price': 125},\n",
              " '128': {'date': '4/6',\n",
              "  'p_exp': '9/11',\n",
              "  'p_name': 'noodles',\n",
              "  'p_quan': 12,\n",
              "  'price': 25},\n",
              " '129': {'date': '2/9',\n",
              "  'p_exp': '12/9',\n",
              "  'p_name': 'ice cream',\n",
              "  'p_quan': 25,\n",
              "  'price': 50},\n",
              " '130': {'date': '7/7',\n",
              "  'p_exp': '10/9',\n",
              "  'p_name': 'paneer soda',\n",
              "  'p_quan': 10,\n",
              "  'price': 25},\n",
              " '131': {'date': '7/8',\n",
              "  'p_exp': '9/11',\n",
              "  'p_name': 'cream',\n",
              "  'p_quan': 5,\n",
              "  'price': 45},\n",
              " '132': {'date': '7/8',\n",
              "  'p_exp': '25/11',\n",
              "  'p_name': 'coffee',\n",
              "  'p_quan': 15,\n",
              "  'price': 15}}"
            ]
          },
          "metadata": {},
          "execution_count": 3
        }
      ]
    },
    {
      "cell_type": "code",
      "metadata": {
        "colab": {
          "base_uri": "https://localhost:8080/"
        },
        "id": "ik644QfYRwlg",
        "outputId": "73887bcc-98aa-497e-fe1d-f5ac7c0293ff"
      },
      "source": [
        "ui_prod  = str(input(\"Enter the product_Id: \"))\n",
        "ui_p_quan = int(input(\"Enter the quantity: \"))\n",
        "\n",
        "print(\"*****BILL******\")\n",
        "print(\"Product: \", records[ui_prod]['p_name'])\n",
        "print(\"Price: \", records[ui_prod]['price'])\n",
        "print(\"************************************\")\n",
        "print(\"Billing Amount: \", records[ui_prod]['price'] * ui_p_quan)\n",
        "\n",
        "records[ui_prod]['p_quan'] = records[ui_prod]['p_quan'] - ui_p_quan"
      ],
      "execution_count": 5,
      "outputs": [
        {
          "output_type": "stream",
          "name": "stdout",
          "text": [
            "Enter the product_Id: 112\n",
            "Enter the quantity: 3\n",
            "*****BILL******\n",
            "Product:  fish\n",
            "Price:  400\n",
            "************************************\n",
            "Billing Amount:  1200\n"
          ]
        }
      ]
    },
    {
      "cell_type": "code",
      "metadata": {
        "id": "J3Ve4h4eTaoX"
      },
      "source": [
        "js = json.dumps(records)\n",
        "\n",
        "fd = open(\"record.json\",'w')\n",
        "fd.write(js)\n",
        "fd.close()"
      ],
      "execution_count": 6,
      "outputs": []
    },
    {
      "cell_type": "code",
      "metadata": {
        "colab": {
          "base_uri": "https://localhost:8080/"
        },
        "id": "o6CE6yWiT1KO",
        "outputId": "06c61c3d-1484-4f9a-e6fb-5f8692044a1e"
      },
      "source": [
        "ui_prod  = str(input(\"Enter the product_Id: \"))\n",
        "ui_p_quan = int(input(\"Enter the quantity: \"))\n",
        "\n",
        "print(\"*****BILL******\")\n",
        "print(\"Product: \", records[ui_prod]['p_name'])\n",
        "print(\"Price: \", records[ui_prod]['price'])\n",
        "print(\"************************************\")\n",
        "print(\"Billing Amount: \", records[ui_prod]['price'] * ui_p_quan)\n",
        "\n",
        "records[ui_prod]['p_quan'] = records[ui_prod]['p_quan'] - ui_p_quan\n",
        "js = json.dumps(records)\n",
        "\n",
        "fd = open(\"record.json\",'w')\n",
        "fd.write(js)\n",
        "fd.close()\n"
      ],
      "execution_count": 7,
      "outputs": [
        {
          "output_type": "stream",
          "name": "stdout",
          "text": [
            "Enter the product_Id: 102\n",
            "Enter the quantity: 1\n",
            "*****BILL******\n",
            "Product:  Banana\n",
            "Price:  4\n",
            "************************************\n",
            "Billing Amount:  4\n"
          ]
        }
      ]
    },
    {
      "cell_type": "code",
      "metadata": {
        "colab": {
          "base_uri": "https://localhost:8080/"
        },
        "id": "stthpz1rUYeg",
        "outputId": "7f803140-5d2d-4f3c-d187-b84fd8dacc73"
      },
      "source": [
        "ui_prod  = str(input(\"Enter the product_Id: \"))\n",
        "ui_p_quan = int(input(\"Enter the quantity: \"))\n",
        "\n",
        "print(\"*****BILL******\")\n",
        "print(\"Product: \", records[ui_prod]['p_name'])\n",
        "print(\"Price: \", records[ui_prod]['price'])\n",
        "print(\"************************************\")\n",
        "print(\"Billing Amount: \", records[ui_prod]['price'] * ui_p_quan)\n",
        "\n",
        "records[ui_prod]['p_quan'] = records[ui_prod]['p_quan'] - ui_p_quan\n",
        "js = json.dumps(records)\n",
        "\n",
        "fd = open(\"record.json\",'w')\n",
        "fd.write(js)\n",
        "fd.close()\n"
      ],
      "execution_count": 8,
      "outputs": [
        {
          "output_type": "stream",
          "name": "stdout",
          "text": [
            "Enter the product_Id: 103\n",
            "Enter the quantity: 5\n",
            "*****BILL******\n",
            "Product:  Chips\n",
            "Price:  10\n",
            "************************************\n",
            "Billing Amount:  50\n"
          ]
        }
      ]
    },
    {
      "cell_type": "code",
      "metadata": {
        "colab": {
          "base_uri": "https://localhost:8080/"
        },
        "id": "EWLDhnfbUsg0",
        "outputId": "c88db58c-85a3-4882-c34c-c420b6d6166f"
      },
      "source": [
        "records"
      ],
      "execution_count": 9,
      "outputs": [
        {
          "output_type": "execute_result",
          "data": {
            "text/plain": [
              "{'101': {'date': '5/21',\n",
              "  'p_exp': '6/21',\n",
              "  'p_name': 'Apple',\n",
              "  'p_quan': 30,\n",
              "  'price': 5},\n",
              " '102': {'date': '6/21',\n",
              "  'p_exp': '6/21',\n",
              "  'p_name': 'Banana',\n",
              "  'p_quan': 19,\n",
              "  'price': 4},\n",
              " '103': {'date': '6/21',\n",
              "  'p_exp': '7/21',\n",
              "  'p_name': 'Chips',\n",
              "  'p_quan': 20,\n",
              "  'price': 10},\n",
              " '104': {'date': '4/9',\n",
              "  'p_exp': '6/9',\n",
              "  'p_name': 'milk',\n",
              "  'p_quan': 2,\n",
              "  'price': 25},\n",
              " '105': {'date': '4/9',\n",
              "  'p_exp': '8/9',\n",
              "  'p_name': 'paneer',\n",
              "  'p_quan': 3,\n",
              "  'price': 50},\n",
              " '106': {'date': '5/9',\n",
              "  'p_exp': '21/9',\n",
              "  'p_name': 'ghee',\n",
              "  'p_quan': 2,\n",
              "  'price': 100},\n",
              " '107': {'date': '2/8',\n",
              "  'p_exp': '9/9',\n",
              "  'p_name': 'cheese',\n",
              "  'p_quan': 4,\n",
              "  'price': 120},\n",
              " '108': {'date': '12/6',\n",
              "  'p_exp': '10/11',\n",
              "  'p_name': 'ketchup',\n",
              "  'p_quan': 4,\n",
              "  'price': 75},\n",
              " '109': {'date': '12/7',\n",
              "  'p_exp': '8/9',\n",
              "  'p_name': 'butter',\n",
              "  'p_quan': 5,\n",
              "  'price': 80},\n",
              " '110': {'date': '1/9',\n",
              "  'p_exp': '9/9',\n",
              "  'p_name': 'meat',\n",
              "  'p_quan': 2,\n",
              "  'price': 220},\n",
              " '111': {'date': '5/9',\n",
              "  'p_exp': '11/9',\n",
              "  'p_name': 'chicken',\n",
              "  'p_quan': 3,\n",
              "  'price': 240},\n",
              " '112': {'date': '6/9',\n",
              "  'p_exp': '13/9',\n",
              "  'p_name': 'fish',\n",
              "  'p_quan': 1,\n",
              "  'price': 400},\n",
              " '113': {'date': '2/8',\n",
              "  'p_exp': '9/8',\n",
              "  'p_name': 'prawn',\n",
              "  'p_quan': 2,\n",
              "  'price': 300},\n",
              " '114': {'date': '5/9',\n",
              "  'p_exp': '7/9',\n",
              "  'p_name': 'greens',\n",
              "  'p_quan': 5,\n",
              "  'price': 12},\n",
              " '115': {'date': '3/9',\n",
              "  'p_exp': '14/9',\n",
              "  'p_name': 'bread',\n",
              "  'p_quan': 4,\n",
              "  'price': 24},\n",
              " '116': {'date': '6/9',\n",
              "  'p_exp': '18/9',\n",
              "  'p_name': 'bun',\n",
              "  'p_quan': 6,\n",
              "  'price': 25},\n",
              " '117': {'date': '9/8',\n",
              "  'p_exp': '10/10',\n",
              "  'p_name': 'jam',\n",
              "  'p_quan': 2,\n",
              "  'price': 75},\n",
              " '118': {'date': '23/8',\n",
              "  'p_exp': '9/9',\n",
              "  'p_name': 'dates',\n",
              "  'p_quan': 4,\n",
              "  'price': 220},\n",
              " '119': {'date': '24/8',\n",
              "  'p_exp': '10/10',\n",
              "  'p_name': 'jelly',\n",
              "  'p_quan': 5,\n",
              "  'price': 5},\n",
              " '120': {'date': '18/7',\n",
              "  'p_exp': '20/9',\n",
              "  'p_name': 'oats',\n",
              "  'p_quan': 7,\n",
              "  'price': 45},\n",
              " '121': {'date': '6/9',\n",
              "  'p_exp': '10/9',\n",
              "  'p_name': 'waffles',\n",
              "  'p_quan': 3,\n",
              "  'price': 120},\n",
              " '122': {'date': '13/7',\n",
              "  'p_exp': '9/10',\n",
              "  'p_name': 'wafer',\n",
              "  'p_quan': 6,\n",
              "  'price': 20},\n",
              " '123': {'date': '4/8',\n",
              "  'p_exp': '4/11',\n",
              "  'p_name': 'wheat flour',\n",
              "  'p_quan': 3,\n",
              "  'price': 30},\n",
              " '124': {'date': '9/6',\n",
              "  'p_exp': '2/10',\n",
              "  'p_name': 'corn flour',\n",
              "  'p_quan': 5,\n",
              "  'price': 35},\n",
              " '125': {'date': '5/8',\n",
              "  'p_exp': '10/9',\n",
              "  'p_name': 'dairy milk',\n",
              "  'p_quan': 7,\n",
              "  'price': 50},\n",
              " '126': {'date': '3/9',\n",
              "  'p_exp': '15/10',\n",
              "  'p_name': 'milkmaid',\n",
              "  'p_quan': 8,\n",
              "  'price': 75},\n",
              " '127': {'date': '8/7',\n",
              "  'p_exp': '10/11',\n",
              "  'p_name': 'choco powder',\n",
              "  'p_quan': 10,\n",
              "  'price': 125},\n",
              " '128': {'date': '4/6',\n",
              "  'p_exp': '9/11',\n",
              "  'p_name': 'noodles',\n",
              "  'p_quan': 12,\n",
              "  'price': 25},\n",
              " '129': {'date': '2/9',\n",
              "  'p_exp': '12/9',\n",
              "  'p_name': 'ice cream',\n",
              "  'p_quan': 25,\n",
              "  'price': 50},\n",
              " '130': {'date': '7/7',\n",
              "  'p_exp': '10/9',\n",
              "  'p_name': 'paneer soda',\n",
              "  'p_quan': 10,\n",
              "  'price': 25},\n",
              " '131': {'date': '7/8',\n",
              "  'p_exp': '9/11',\n",
              "  'p_name': 'cream',\n",
              "  'p_quan': 5,\n",
              "  'price': 45},\n",
              " '132': {'date': '7/8',\n",
              "  'p_exp': '25/11',\n",
              "  'p_name': 'coffee',\n",
              "  'p_quan': 15,\n",
              "  'price': 15}}"
            ]
          },
          "metadata": {},
          "execution_count": 9
        }
      ]
    },
    {
      "cell_type": "code",
      "metadata": {
        "id": "MCnsg-U2VNsC"
      },
      "source": [
        ""
      ],
      "execution_count": null,
      "outputs": []
    },
    {
      "cell_type": "markdown",
      "metadata": {
        "id": "j9ZJkGEDW3qr"
      },
      "source": [
        "Sales"
      ]
    },
    {
      "cell_type": "code",
      "metadata": {
        "id": "KBGVq-vjXxh6"
      },
      "source": [
        "import time\n",
        "tt= time.ctime()"
      ],
      "execution_count": 10,
      "outputs": []
    },
    {
      "cell_type": "code",
      "metadata": {
        "id": "x6T1MnLzYk_K"
      },
      "source": [
        "sales = {1 : {'product' : ui_prod, 'quantity' : ui_p_quan, 'amount': records[ui_prod]['price'] * ui_p_quan, 'purchase time': tt}}"
      ],
      "execution_count": 11,
      "outputs": []
    },
    {
      "cell_type": "code",
      "metadata": {
        "colab": {
          "base_uri": "https://localhost:8080/"
        },
        "id": "3M24G96rZ9KJ",
        "outputId": "10ec22a1-1619-4627-ad63-2c41888a566f"
      },
      "source": [
        "sales"
      ],
      "execution_count": 12,
      "outputs": [
        {
          "output_type": "execute_result",
          "data": {
            "text/plain": [
              "{1: {'amount': 50,\n",
              "  'product': '103',\n",
              "  'purchase time': 'Mon Sep  6 09:13:33 2021',\n",
              "  'quantity': 5}}"
            ]
          },
          "metadata": {},
          "execution_count": 12
        }
      ]
    },
    {
      "cell_type": "code",
      "metadata": {
        "id": "G5cZpeyUaBbc"
      },
      "source": [
        "sale = json.dumps(sales)\n",
        "fd = open(\"sales.json\",'w')\n",
        "fd.write(sale)\n",
        "fd.close()"
      ],
      "execution_count": 13,
      "outputs": []
    },
    {
      "cell_type": "code",
      "metadata": {
        "colab": {
          "base_uri": "https://localhost:8080/"
        },
        "id": "1W_Bb5H5fWFn",
        "outputId": "988c9f9e-1c69-4bd3-ca43-6875d0fa6663"
      },
      "source": [
        "import time\n",
        "tt= time.ctime()\n",
        "ui_prod  = str(input(\"Enter the product_Id: \"))\n",
        "ui_p_quan = int(input(\"Enter the quantity: \"))\n",
        "print(\"***BILL***\")\n",
        "print(\"Product: \", records[ui_prod]['p_name'])\n",
        "print(\"Price: \", records[ui_prod]['price'])\n",
        "print(\"Billing Amount: \", records[ui_prod]['price'] * ui_p_quan)\n",
        "print(\"Time of purchase:\",tt)\n",
        "print(\"********\")\n",
        "records[ui_prod]['p_quan'] = records[ui_prod]['p_quan'] - ui_p_quan\n",
        "js = json.dumps(records)\n",
        "fd = open(\"record.json\",'w')\n",
        "fd.write(js)\n",
        "fd.close()\n",
        "sales[len(sales)+1]={'product' : ui_prod, 'quantity' : ui_p_quan, 'amount': records[ui_prod]['price'] * ui_p_quan, 'purchase time': tt}\n",
        "sale = json.dumps(sales)\n",
        "fd = open(\"sales.json\",'w')\n",
        "fd.write(sale)\n",
        "fd.close()"
      ],
      "execution_count": 29,
      "outputs": [
        {
          "output_type": "stream",
          "name": "stdout",
          "text": [
            "Enter the product_Id: 125\n",
            "Enter the quantity: 2\n",
            "***BILL***\n",
            "Product:  dairy milk\n",
            "Price:  50\n",
            "Billing Amount:  100\n",
            "Time of purchase: Mon Sep  6 10:13:57 2021\n",
            "********\n"
          ]
        }
      ]
    },
    {
      "cell_type": "code",
      "metadata": {
        "colab": {
          "base_uri": "https://localhost:8080/"
        },
        "id": "VaY-WhmEfyJy",
        "outputId": "2e95c511-217e-4ab6-851e-995a9c5e0fa0"
      },
      "source": [
        "sales"
      ],
      "execution_count": 30,
      "outputs": [
        {
          "output_type": "execute_result",
          "data": {
            "text/plain": [
              "{1: {'amount': 50,\n",
              "  'product': '103',\n",
              "  'purchase time': 'Mon Sep  6 09:13:33 2021',\n",
              "  'quantity': 5},\n",
              " 2: {'amount': 50,\n",
              "  'product': '104',\n",
              "  'purchase time': 'Mon Sep  6 09:13:33 2021',\n",
              "  'quantity': 2},\n",
              " 3: {'amount': 150,\n",
              "  'product': '108',\n",
              "  'purchase time': 'Mon Sep  6 09:50:25 2021',\n",
              "  'quantity': 2},\n",
              " 4: {'amount': 660,\n",
              "  'product': '110',\n",
              "  'purchase time': 'Mon Sep  6 09:53:07 2021',\n",
              "  'quantity': 3},\n",
              " 5: {'amount': 50,\n",
              "  'product': '130',\n",
              "  'purchase time': 'Mon Sep  6 10:03:22 2021',\n",
              "  'quantity': 2},\n",
              " 6: {'amount': 660,\n",
              "  'product': '118',\n",
              "  'purchase time': 'Mon Sep  6 10:05:04 2021',\n",
              "  'quantity': 3},\n",
              " 7: {'amount': 120,\n",
              "  'product': '121',\n",
              "  'purchase time': 'Mon Sep  6 10:12:59 2021',\n",
              "  'quantity': 1},\n",
              " 8: {'amount': 250,\n",
              "  'product': '127',\n",
              "  'purchase time': 'Mon Sep  6 10:13:13 2021',\n",
              "  'quantity': 2},\n",
              " 9: {'amount': 480,\n",
              "  'product': '111',\n",
              "  'purchase time': 'Mon Sep  6 10:13:41 2021',\n",
              "  'quantity': 2},\n",
              " 10: {'amount': 100,\n",
              "  'product': '125',\n",
              "  'purchase time': 'Mon Sep  6 10:13:57 2021',\n",
              "  'quantity': 2}}"
            ]
          },
          "metadata": {},
          "execution_count": 30
        }
      ]
    },
    {
      "cell_type": "code",
      "metadata": {
        "id": "0mXZF9gchUao"
      },
      "source": [
        ""
      ],
      "execution_count": null,
      "outputs": []
    }
  ]
}