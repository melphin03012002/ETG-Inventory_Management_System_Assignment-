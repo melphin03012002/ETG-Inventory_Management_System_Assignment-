{
  "nbformat": 4,
  "nbformat_minor": 0,
  "metadata": {
    "colab": {
      "name": "Adding_new_prdt.ipynb",
      "provenance": [],
      "collapsed_sections": [],
      "authorship_tag": "ABX9TyMDG9WR0yQpuJdh06hGjcfr",
      "include_colab_link": true
    },
    "kernelspec": {
      "name": "python3",
      "display_name": "Python 3"
    },
    "language_info": {
      "name": "python"
    }
  },
  "cells": [
    {
      "cell_type": "markdown",
      "metadata": {
        "id": "view-in-github",
        "colab_type": "text"
      },
      "source": [
        "<a href=\"https://colab.research.google.com/github/melphin03012002/ETG-Inventory_Management_System_Assignment-/blob/main/Adding_new_prdt.ipynb\" target=\"_parent\"><img src=\"https://colab.research.google.com/assets/colab-badge.svg\" alt=\"Open In Colab\"/></a>"
      ]
    },
    {
      "cell_type": "code",
      "metadata": {
        "id": "Aytk9TUFXcF7"
      },
      "source": [
        "record = { 101 : {\"p_name\": \"Apple\" ,\"price\":5 , \"p_quan\":30 , \"date\" :\"5/21\" ,\"p_exp\" :\"6/21\" },\n",
        "           102:  {\"p_name\": \"Banana\" ,\"price\":4 , \"p_quan\":20 , \"date\" :\"6/21\" ,\"p_exp\" :\"6/21\" },\n",
        "           103:  {\"p_name\": \"Chips\" ,\"price\":10 , \"p_quan\":25 , \"date\" :\"6/21\" ,\"p_exp\" :\"7/21\" },\n",
        "           104:  {\"p_name\": \"biscuit\" ,\"price\":20 , \"p_quan\":10, \"date\" :\"7/21\" ,\"p_exp\" :\"8/21\" }}\n",
        "          "
      ],
      "execution_count": null,
      "outputs": []
    },
    {
      "cell_type": "code",
      "metadata": {
        "id": "dUWuBVu8gHYV"
      },
      "source": [
        "import json"
      ],
      "execution_count": null,
      "outputs": []
    },
    {
      "cell_type": "code",
      "metadata": {
        "id": "OgooDmrcgibJ"
      },
      "source": [
        "js = json.dumps(record)"
      ],
      "execution_count": null,
      "outputs": []
    },
    {
      "cell_type": "code",
      "metadata": {
        "id": "MlvVKDd-gtHD"
      },
      "source": [
        "fd = open(\"record.json\",'w')\n",
        "fd.write(js)\n",
        "fd.close()"
      ],
      "execution_count": null,
      "outputs": []
    },
    {
      "cell_type": "code",
      "metadata": {
        "id": "p4QgXhDJg8VI"
      },
      "source": [
        "fd = open(\"record.json\",'r')\n",
        "r = fd.read()\n",
        "fd.close()\n",
        "record = json.loads(r)"
      ],
      "execution_count": null,
      "outputs": []
    },
    {
      "cell_type": "code",
      "metadata": {
        "colab": {
          "base_uri": "https://localhost:8080/"
        },
        "id": "xCm6NFPghMNO",
        "outputId": "e9c911c1-1afb-4397-fef3-35033331c0f1"
      },
      "source": [
        "record"
      ],
      "execution_count": null,
      "outputs": [
        {
          "output_type": "execute_result",
          "data": {
            "text/plain": [
              "{'101': {'date': '5/21',\n",
              "  'p_exp': '6/21',\n",
              "  'p_name': 'Apple',\n",
              "  'p_quan': 30,\n",
              "  'price': 5},\n",
              " '102': {'date': '6/21',\n",
              "  'p_exp': '6/21',\n",
              "  'p_name': 'Banana',\n",
              "  'p_quan': 20,\n",
              "  'price': 4},\n",
              " '103': {'date': '6/21',\n",
              "  'p_exp': '7/21',\n",
              "  'p_name': 'Chips',\n",
              "  'p_quan': 25,\n",
              "  'price': 10},\n",
              " '104': {'date': '7/21',\n",
              "  'p_exp': '8/21',\n",
              "  'p_name': 'biscuit',\n",
              "  'p_quan': 10,\n",
              "  'price': 20}}"
            ]
          },
          "metadata": {},
          "execution_count": 14
        }
      ]
    },
    {
      "cell_type": "code",
      "metadata": {
        "colab": {
          "base_uri": "https://localhost:8080/"
        },
        "id": "AxdBCsKniARF",
        "outputId": "68117d1c-2ab5-4069-a4fa-69ea62c58799"
      },
      "source": [
        "n=int(input(\"Enter number of products to be added:\"))\n",
        "for i in range(n):\n",
        "      prod_id = str(input(\"Enter product id:\"))\n",
        "      p_name = str(input(\"Enter product name:\"))\n",
        "      p_quan= int(input(\"Enter quantity:\"))\n",
        "      price= int(input(\"Enter price:\"))\n",
        "      date = str(input(\"Enter manufactured/packed date:\"))\n",
        "      p_exp= str(input(\"Enter expiry date:\"))\n",
        "      record[prod_id] = { \"p_name\": p_name , \"p_quan\": p_quan , \"price\" : price ,\"date\": date ,\"p_exp\": e_date}"
      ],
      "execution_count": null,
      "outputs": [
        {
          "name": "stdout",
          "output_type": "stream",
          "text": [
            "Enter number of products to be added:2\n",
            "Enter product id:131\n",
            "Enter product name:cream\n",
            "Enter quantity:5\n",
            "Enter price:45\n",
            "Enter manufactured/packed date:7/8\n",
            "Enter expiry date:9/11\n",
            "Enter product id:132\n",
            "Enter product name:coffee\n",
            "Enter quantity:15\n",
            "Enter price:15\n",
            "Enter manufactured/packed date:7/8\n",
            "Enter expiry date:25/11\n"
          ]
        }
      ]
    },
    {
      "cell_type": "code",
      "metadata": {
        "colab": {
          "base_uri": "https://localhost:8080/"
        },
        "id": "S1jEUIw6m5NK",
        "outputId": "4a54a3b2-dad3-471d-fb69-d820590a54f0"
      },
      "source": [
        "\n",
        "record"
      ],
      "execution_count": null,
      "outputs": [
        {
          "output_type": "execute_result",
          "data": {
            "text/plain": [
              "{'101': {'date': '5/21',\n",
              "  'p_exp': '6/21',\n",
              "  'p_name': 'Apple',\n",
              "  'p_quan': 30,\n",
              "  'price': 5},\n",
              " '102': {'date': '6/21',\n",
              "  'p_exp': '6/21',\n",
              "  'p_name': 'Banana',\n",
              "  'p_quan': 20,\n",
              "  'price': 4},\n",
              " '103': {'date': '6/21',\n",
              "  'p_exp': '7/21',\n",
              "  'p_name': 'Chips',\n",
              "  'p_quan': 25,\n",
              "  'price': 10},\n",
              " '104': {'date': '4/9',\n",
              "  'p_exp': '6/9',\n",
              "  'p_name': 'milk',\n",
              "  'p_quan': 2,\n",
              "  'price': 25},\n",
              " '105': {'date': '4/9',\n",
              "  'p_exp': '8/9',\n",
              "  'p_name': 'paneer',\n",
              "  'p_quan': 3,\n",
              "  'price': 50},\n",
              " '106': {'date': '5/9',\n",
              "  'p_exp': '21/9',\n",
              "  'p_name': 'ghee',\n",
              "  'p_quan': 2,\n",
              "  'price': 100},\n",
              " '107': {'date': '2/8',\n",
              "  'p_exp': '9/9',\n",
              "  'p_name': 'cheese',\n",
              "  'p_quan': 4,\n",
              "  'price': 120},\n",
              " '108': {'date': '12/6',\n",
              "  'p_exp': '10/11',\n",
              "  'p_name': 'ketchup',\n",
              "  'p_quan': 4,\n",
              "  'price': 75},\n",
              " '109': {'date': '12/7',\n",
              "  'p_exp': '8/9',\n",
              "  'p_name': 'butter',\n",
              "  'p_quan': 5,\n",
              "  'price': 80},\n",
              " '110': {'date': '1/9',\n",
              "  'p_exp': '9/9',\n",
              "  'p_name': 'meat',\n",
              "  'p_quan': 2,\n",
              "  'price': 220},\n",
              " '111': {'date': '5/9',\n",
              "  'p_exp': '11/9',\n",
              "  'p_name': 'chicken',\n",
              "  'p_quan': 3,\n",
              "  'price': 240},\n",
              " '112': {'date': '6/9',\n",
              "  'p_exp': '13/9',\n",
              "  'p_name': 'fish',\n",
              "  'p_quan': 4,\n",
              "  'price': 400},\n",
              " '113': {'date': '2/8',\n",
              "  'p_exp': '9/8',\n",
              "  'p_name': 'prawn',\n",
              "  'p_quan': 2,\n",
              "  'price': 300},\n",
              " '114': {'date': '5/9',\n",
              "  'p_exp': '7/9',\n",
              "  'p_name': 'greens',\n",
              "  'p_quan': 5,\n",
              "  'price': 12},\n",
              " '115': {'date': '3/9',\n",
              "  'p_exp': '14/9',\n",
              "  'p_name': 'bread',\n",
              "  'p_quan': 4,\n",
              "  'price': 24},\n",
              " '116': {'date': '6/9',\n",
              "  'p_exp': '18/9',\n",
              "  'p_name': 'bun',\n",
              "  'p_quan': 6,\n",
              "  'price': 25},\n",
              " '117': {'date': '9/8',\n",
              "  'p_exp': '10/10',\n",
              "  'p_name': 'jam',\n",
              "  'p_quan': 2,\n",
              "  'price': 75},\n",
              " '118': {'date': '23/8',\n",
              "  'p_exp': '9/9',\n",
              "  'p_name': 'dates',\n",
              "  'p_quan': 4,\n",
              "  'price': 220},\n",
              " '119': {'date': '24/8',\n",
              "  'p_exp': '10/10',\n",
              "  'p_name': 'jelly',\n",
              "  'p_quan': 5,\n",
              "  'price': 5},\n",
              " '120': {'date': '18/7',\n",
              "  'p_exp': '20/9',\n",
              "  'p_name': 'oats',\n",
              "  'p_quan': 7,\n",
              "  'price': 45},\n",
              " '121': {'date': '6/9',\n",
              "  'p_exp': '10/9',\n",
              "  'p_name': 'waffles',\n",
              "  'p_quan': 3,\n",
              "  'price': 120},\n",
              " '122': {'date': '13/7',\n",
              "  'p_exp': '9/10',\n",
              "  'p_name': 'wafer',\n",
              "  'p_quan': 6,\n",
              "  'price': 20},\n",
              " '123': {'date': '4/8',\n",
              "  'p_exp': '4/11',\n",
              "  'p_name': 'wheat flour',\n",
              "  'p_quan': 3,\n",
              "  'price': 30},\n",
              " '124': {'date': '9/6',\n",
              "  'p_exp': '2/10',\n",
              "  'p_name': 'corn flour',\n",
              "  'p_quan': 5,\n",
              "  'price': 35},\n",
              " '125': {'date': '5/8',\n",
              "  'p_exp': '10/9',\n",
              "  'p_name': 'dairy milk',\n",
              "  'p_quan': 7,\n",
              "  'price': 50},\n",
              " '126': {'date': '3/9',\n",
              "  'p_exp': '15/10',\n",
              "  'p_name': 'milkmaid',\n",
              "  'p_quan': 8,\n",
              "  'price': 75},\n",
              " '127': {'date': '8/7',\n",
              "  'p_exp': '10/11',\n",
              "  'p_name': 'choco powder',\n",
              "  'p_quan': 10,\n",
              "  'price': 125},\n",
              " '128': {'date': '4/6',\n",
              "  'p_exp': '9/11',\n",
              "  'p_name': 'noodles',\n",
              "  'p_quan': 12,\n",
              "  'price': 25},\n",
              " '129': {'date': '2/9',\n",
              "  'p_exp': '12/9',\n",
              "  'p_name': 'ice cream',\n",
              "  'p_quan': 25,\n",
              "  'price': 50},\n",
              " '130': {'date': '7/7',\n",
              "  'p_exp': '10/9',\n",
              "  'p_name': 'paneer soda',\n",
              "  'p_quan': 10,\n",
              "  'price': 25},\n",
              " '131': {'date': '7/8',\n",
              "  'p_exp': '9/11',\n",
              "  'p_name': 'cream',\n",
              "  'p_quan': 5,\n",
              "  'price': 45},\n",
              " '132': {'date': '7/8',\n",
              "  'p_exp': '25/11',\n",
              "  'p_name': 'coffee',\n",
              "  'p_quan': 15,\n",
              "  'price': 15}}"
            ]
          },
          "metadata": {},
          "execution_count": 24
        }
      ]
    },
    {
      "cell_type": "code",
      "metadata": {
        "id": "P5yPGfDfofRX"
      },
      "source": [
        "js = json.dumps(record)\n",
        "fd = open(\"record.json\",'w')\n",
        "fd.write(js)\n",
        "fd.close()"
      ],
      "execution_count": null,
      "outputs": []
    },
    {
      "cell_type": "code",
      "metadata": {
        "id": "Kb2K9AeGonnn"
      },
      "source": [
        ""
      ],
      "execution_count": null,
      "outputs": []
    }
  ]
}